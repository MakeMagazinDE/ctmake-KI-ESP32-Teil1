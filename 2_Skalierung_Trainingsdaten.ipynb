{
 "cells": [
  {
   "cell_type": "markdown",
   "metadata": {},
   "source": [
    "# Skalierung Trainingsdaten\n",
    "\n",
    "Die Trainingsbilder für das neuronale Netz müssen alle die gleiche Größe haben, da der Eingangslayer eine feste Größe hat. Dieses Skript nimmt alle bilder im Ordner \"Input_dir\", skaliert diese auf die Zielgröße (targe_size_x/y) und gibt sie dann im Ausgabeverzeichnis aus. Letzeres wird vorher noch gelöscht.\n",
    "Any other image converter can be used as well.\n",
    "\n",
    "### Vorbereitung (Laden der Bibliotheken und Einstellungen)\n",
    "Für die Bildbearbeitung und Dateioperationen werden drei Bibliotheken benötigt.\n",
    "Input_dir / Output_dir = Verzeichnis für Quell- und Zieldaten\n",
    "target_size_x/y = Zielgröße für die Skalierung"
   ]
  },
  {
   "cell_type": "code",
   "execution_count": 1,
   "metadata": {},
   "outputs": [],
   "source": [
    "import glob\n",
    "import os\n",
    "from PIL import Image \n",
    "\n",
    "Input_dir = 'bilder_original'\n",
    "Output_dir= 'bilder_resize'\n",
    "\n",
    "target_size_x = 20\n",
    "target_size_y = 32\n"
   ]
  },
  {
   "cell_type": "markdown",
   "metadata": {},
   "source": [
    "### Löschen der Bilder im Zielverzeichnisses"
   ]
  },
  {
   "cell_type": "code",
   "execution_count": 2,
   "metadata": {},
   "outputs": [
    {
     "name": "stdout",
     "output_type": "stream",
     "text": [
      "Es wurden 0 Dateien gelöscht.\n"
     ]
    }
   ],
   "source": [
    "files = glob.glob(Output_dir + '/*.jpg')\n",
    "\n",
    "i = 0\n",
    "for f in files:\n",
    "    os.remove(f)\n",
    "    i=i+1\n",
    "    \n",
    "print(\"Es wurden \" + str(i) + \" Dateien gelöscht.\")"
   ]
  },
  {
   "cell_type": "markdown",
   "metadata": {},
   "source": [
    "### Umskalierung aller Bilder\n",
    "Hier wird auch keine Glättung oder ähnliches bei der Skalierung sondern \"Nearest\" verwendet, da dies der Bildverarbeitung in den ESP32-Bibliotheken am nächsten ist."
   ]
  },
  {
   "cell_type": "code",
   "execution_count": 3,
   "metadata": {},
   "outputs": [
    {
     "name": "stdout",
     "output_type": "stream",
     "text": [
      "bilder_original\\0_digit1_20210323-194921.jpg\n",
      "bilder_original\\0_digit1_20210422-092016.jpg\n",
      "bilder_original\\1_20200822-102208_digit2.jpg\n",
      "bilder_original\\1_4_20210727-032503.jpg\n",
      "bilder_original\\2_digit3_20210320-011808.jpg\n",
      "bilder_original\\2_ziffer3_2019-11-24_08-32-52.jpg\n",
      "bilder_original\\3_20210725-200158.jpg\n",
      "bilder_original\\3_digit3_20211101-092245.jpg\n",
      "bilder_original\\3_ROI2_20210226-143925.jpg\n",
      "bilder_original\\4_2020-08-20_17-24-21.jpg\n",
      "bilder_original\\4_digit3_20210422-092016.jpg\n",
      "bilder_original\\5_ziffer3_2020-02-12_17-01-06.jpg\n",
      "bilder_original\\5_ziffer3_2020-04-24_16-40-06.jpg\n",
      "bilder_original\\6_ziffer4_2020-05-19_19-40-14.jpg\n",
      "bilder_original\\6_Ziffer_6_0065.jpg\n",
      "bilder_original\\7_2020-08-20_15-23-28.jpg\n",
      "bilder_original\\7_ziffer5_2019-10-14_02-48-29.jpg\n",
      "bilder_original\\8_1588866618178-ziffer5.jpg\n",
      "bilder_original\\8_ROI4_20210427-090127.jpg\n",
      "bilder_original\\9_D4_2020-08-05_21-24-01.jpg\n",
      "bilder_original\\9_ziffer5_2020-04-25_08-00-06.jpg\n",
      "bilder_original\\NaN_iffer_NaN_1421.jpg\n",
      "bilder_original\\NaN_ziffer5_2020-05-13_23-50-06.jpg\n",
      "bilder_original\\NaN_ziffer5_2020-05-16_05-50-06.jpg\n",
      "bilder_original\\NaN_Ziffer_NaN_2243.jpg\n"
     ]
    }
   ],
   "source": [
    "files = glob.glob(Input_dir + '/*.jpg')\n",
    "for aktfile in files:\n",
    "    print(aktfile)\n",
    "    test_image = Image.open(aktfile)\n",
    "    test_image = test_image.resize((target_size_x, target_size_y), Image.NEAREST)\n",
    "    base=os.path.basename(aktfile)\n",
    "    save_name = Output_dir + '/' + base\n",
    "    test_image.save(save_name, \"JPEG\")"
   ]
  }
 ],
 "metadata": {
  "kernelspec": {
   "display_name": "Python 3 (ipykernel)",
   "language": "python",
   "name": "python3"
  },
  "language_info": {
   "codemirror_mode": {
    "name": "ipython",
    "version": 3
   },
   "file_extension": ".py",
   "mimetype": "text/x-python",
   "name": "python",
   "nbconvert_exporter": "python",
   "pygments_lexer": "ipython3",
   "version": "3.8.11"
  }
 },
 "nbformat": 4,
 "nbformat_minor": 2
}

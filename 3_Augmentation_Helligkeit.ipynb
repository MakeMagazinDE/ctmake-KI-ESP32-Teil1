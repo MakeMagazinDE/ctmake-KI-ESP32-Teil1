{
 "cells": [
  {
   "cell_type": "markdown",
   "metadata": {},
   "source": [
    "# Variation der Helligkeit (Beispiel für Augmentation)\n",
    "\n",
    "Um das neuronale Netz später robust gegenüber Variationen der Bilder zu gestalten, aber gleichzeitig die Anzahl der Trainingsbilder gering zu halten, wird hier das Mittel der künstlichen Bildvariation verwenden (Augmentation)\n",
    "Hier wird dies zunächst am Beispiel der Bildhelligkeit gezeigt.\n",
    "\n",
    "### Vorbereitung (Laden der Bibliotheken und Einstellungen)\n",
    "Für die Bildbearbeitung und Dateioperationen wird hier auch noch zusätzlich erstmals die Funktion \"ImageDataGenerator\" der Tensorflow-Bibliothek benötigt."
   ]
  },
  {
   "cell_type": "code",
   "execution_count": null,
   "metadata": {},
   "outputs": [],
   "source": [
    "from PIL import Image \n",
    "import numpy as np\n",
    "from tensorflow.keras.preprocessing.image import ImageDataGenerator\n",
    "from matplotlib import pyplot"
   ]
  },
  {
   "cell_type": "markdown",
   "metadata": {},
   "source": [
    "### Laden des Beispielbilds und Umwandlung in ein Bildarray\n",
    "Die Tensorflow-Matrix verwendet als Eingang für das spätere Training die Bildaten in einem Mehrdimensionalen Array. Das hier verwendet Bild hat die Dimension [86, 48, 3], wobei die ersten beiden der Größe entspricht (86x48 Pixel) und die anderen den 3 Farben (RGB).\n",
    "Da der Operator für die Augmentation später grundsätzlich für mehrere Bilder ausgelegt ist, muss dieses Array noch um eine Dimension erweitert werden, in der später über die einzelnen Bilder iteriert wird. Hier ist diese zusätzliche Dimension nur notwendig, um das korrekte Datenformat für den nächsten Schritt zu haben."
   ]
  },
  {
   "cell_type": "code",
   "execution_count": null,
   "metadata": {},
   "outputs": [],
   "source": [
    "img = Image.open('Size_Example_1.jpg')\n",
    "data = np.array(img)\n",
    "\n",
    "print(\"Dimension des Bildarrays: \")\n",
    "print(data.shape)\n",
    "\n",
    "sample = np.expand_dims(data, 0)\n",
    "print(\"Zusätzliche Dimension des Bildarrays für die Augmentation: \")\n",
    "print(sample.shape)\n"
   ]
  },
  {
   "cell_type": "markdown",
   "metadata": {},
   "source": [
    "### Definition des Augmentation-Operators\n",
    "Die Variation der Bilder ist über einen Iterator umgesetzt. Zunächst wird über die Funktion \"ImageDataGenerator\" definiert, was variert werdne soll. Hier ist es die Helligkeit, die über ein Intervall angegeben wird, wobei gilt:\n",
    "* 0 = schwarz\n",
    "* 1 = unverändert\n",
    "* größer 1 = aufhellen\n",
    "\n",
    "Hier wird die Helligkeit zwischen [0.5, 1.5] variert.\n",
    "\n",
    "Im zweiten Schritt werden dem Iterator noch die Eingangsbilder (hier nur ein einzelnes) und die Anzahl an Bilder zurückgegen, die bei jedem Aufruf zurückgeben werden solle - das sogenannte Batch - hier natürlich auch nur ein einziges. Das bedeutet dann: bei jedem Aufruf des iterators (siehe nächster Schritt), wird genau ein Bild zurück geliefert und dieses wird in der Helligkeit im Intervall [0.5, 1] variiert.\n",
    "\n",
    "Anschließend wird der Iterator beispielhaft aufgerufen, ein Bild abgerufen (iterator.next()). Zurückgeben wird natürlich ein Batch, welches nur ein Bild enthät (image = batch[0]...). Dieses kann dann dargestellt werden. Wenn der Iterator mehrfach aufgerufen wird, sieht man, wie das Bild variiert."
   ]
  },
  {
   "cell_type": "code",
   "execution_count": null,
   "metadata": {},
   "outputs": [],
   "source": [
    "Brightness_Range = 1\n",
    "datagen = ImageDataGenerator(brightness_range = [1-Brightness_Range,1+Brightness_Range])\n",
    "\n",
    "iterator = datagen.flow(sample, batch_size=1)\n",
    "\n",
    "\n",
    "batch = iterator.next()\n",
    "image = batch[0].astype('uint8')\n",
    "display(Image.fromarray(image))"
   ]
  },
  {
   "cell_type": "markdown",
   "metadata": {},
   "source": [
    "### Überblick über die Variationen\n",
    "Hier werden jetzt in einem 5x5 Array 25 unterschiedliche Variationen dargestellt."
   ]
  },
  {
   "cell_type": "code",
   "execution_count": null,
   "metadata": {},
   "outputs": [],
   "source": [
    "fig, axs = pyplot.subplots(5, 5, sharex='col', sharey='row', gridspec_kw={'hspace': 0, 'wspace': 0})\n",
    "for x in range(5):\n",
    "    for y in range (5):\n",
    "        batch = iterator.next()\n",
    "        image = batch[0].astype('uint8')\n",
    "        axs[x, y].imshow(image) "
   ]
  }
 ],
 "metadata": {
  "kernelspec": {
   "display_name": "Python 3 (ipykernel)",
   "language": "python",
   "name": "python3"
  },
  "language_info": {
   "codemirror_mode": {
    "name": "ipython",
    "version": 3
   },
   "file_extension": ".py",
   "mimetype": "text/x-python",
   "name": "python",
   "nbconvert_exporter": "python",
   "pygments_lexer": "ipython3",
   "version": "3.8.11"
  }
 },
 "nbformat": 4,
 "nbformat_minor": 2
}

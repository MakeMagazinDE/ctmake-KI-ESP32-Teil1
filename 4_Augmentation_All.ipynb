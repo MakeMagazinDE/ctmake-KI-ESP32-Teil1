{
 "cells": [
  {
   "cell_type": "markdown",
   "metadata": {},
   "source": [
    "# Variation weiterer Parameter\n",
    "\n",
    "Um das neuronale Netz später robust gegenüber Variationen der Bilder zu gestalten, aber gleichzeitig die Anzahl der Trainingsbilder gering zu halten, wird hier das Mittel der künstlichen Bildvariation verwenden (Augmentation)\n",
    "Hier wird dies zunächst am Beispiel der Bildhelligkeit gezeigt.\n",
    "\n",
    "Hier werden der reiche nach verschiedene Parameter variiert und abschließend eine Kombination aller Variationen überlagert.\n",
    "\n",
    "### Vorbereitung (Laden der Bibliotheken, des Bildes und Definition des Iterators)\n",
    "Analog zum vorherigen Beispiel werden zunächst die notwendigen Bibliotheken und das Bild geladen."
   ]
  },
  {
   "cell_type": "code",
   "execution_count": null,
   "metadata": {},
   "outputs": [],
   "source": [
    "from PIL import Image \n",
    "import numpy as np\n",
    "from tensorflow.keras.preprocessing.image import ImageDataGenerator\n",
    "from matplotlib import pyplot\n",
    "\n",
    "img = Image.open('Size_Example_1.jpg')\n",
    "data = np.array(img)\n",
    "samples = np.expand_dims(data, 0)\n",
    "print(\"Dimension des Bildarrays für die Augmentation:\")\n",
    "print(samples.shape)"
   ]
  },
  {
   "cell_type": "markdown",
   "metadata": {},
   "source": [
    "### Variation Helligkeit\n",
    "Wiederholung der Variation aus Skript 3"
   ]
  },
  {
   "cell_type": "code",
   "execution_count": null,
   "metadata": {},
   "outputs": [],
   "source": [
    "Brightness_Range = 0.5\n",
    "datagen = ImageDataGenerator(brightness_range = [1-Brightness_Range,1+Brightness_Range])\n",
    "iterator = datagen.flow(samples, batch_size=1)\n",
    "\n",
    "fig, axs = pyplot.subplots(3, 3, sharex='col', sharey='row', gridspec_kw={'hspace': 0, 'wspace': 0})\n",
    "for x in range(3):\n",
    "    for y in range (3):\n",
    "        batch = iterator.next()\n",
    "        image = batch[0].astype('uint8')\n",
    "        axs[x, y].imshow(image) "
   ]
  },
  {
   "cell_type": "markdown",
   "metadata": {},
   "source": [
    "### Variation Bildposition\n",
    "Mit Hilfe der Parameter \"width_shift_range\" und \"height_shift_range\" wird das Bild um ein Variable Pixelanzahl verschoben. Dabei werden die Ränder ergänzt."
   ]
  },
  {
   "cell_type": "code",
   "execution_count": null,
   "metadata": {},
   "outputs": [],
   "source": [
    "Shift_Range      = 10\n",
    "\n",
    "datagen = ImageDataGenerator(width_shift_range  = [-Shift_Range,Shift_Range],\n",
    "                             height_shift_range = [-Shift_Range,Shift_Range])\n",
    "iterator = datagen.flow(samples, batch_size=1)\n",
    "\n",
    "fig, axs = pyplot.subplots(3, 3, sharex='col', sharey='row', gridspec_kw={'hspace': 0, 'wspace': 0})\n",
    "for x in range(3):\n",
    "    for y in range (3):\n",
    "        batch = iterator.next()\n",
    "        image = batch[0].astype('uint8')\n",
    "        axs[x, y].imshow(image) "
   ]
  },
  {
   "cell_type": "markdown",
   "metadata": {},
   "source": [
    "### Variation Bildrotation\n",
    "Über den Paramter \"rotation_range\" wird das Bild gedreht. Die Einheit ist Grad."
   ]
  },
  {
   "cell_type": "code",
   "execution_count": null,
   "metadata": {},
   "outputs": [],
   "source": [
    "#Image_Augmentation_Parameters\n",
    "Rotation_Angle   = 10\n",
    "\n",
    "datagen = ImageDataGenerator(rotation_range     = Rotation_Angle)\n",
    "iterator = datagen.flow(samples, batch_size=1)\n",
    "\n",
    "fig, axs = pyplot.subplots(3, 3, sharex='col', sharey='row', gridspec_kw={'hspace': 0, 'wspace': 0})\n",
    "for x in range(3):\n",
    "    for y in range (3):\n",
    "        batch = iterator.next()\n",
    "        image = batch[0].astype('uint8')\n",
    "        axs[x, y].imshow(image) "
   ]
  },
  {
   "cell_type": "markdown",
   "metadata": {},
   "source": [
    "### Variation Zoom\n",
    "Auch die Bildgröße kann über den Parameter \"zoom_range\" verändert werden. Dabei kann das Bild verzerrt werden, da x- und y-Richtung unabhängig verzerrt werden."
   ]
  },
  {
   "cell_type": "code",
   "execution_count": null,
   "metadata": {},
   "outputs": [],
   "source": [
    "ZoomRange        = 0.8\n",
    "\n",
    "datagen = ImageDataGenerator(zoom_range         = [1-ZoomRange, 1+ZoomRange])\n",
    "iterator = datagen.flow(samples, batch_size=1)\n",
    "\n",
    "fig, axs = pyplot.subplots(3, 3, sharex='col', sharey='row', gridspec_kw={'hspace': 0, 'wspace': 0})\n",
    "for x in range(3):\n",
    "    for y in range (3):\n",
    "        batch = iterator.next()\n",
    "        image = batch[0].astype('uint8')\n",
    "        axs[x, y].imshow(image) "
   ]
  },
  {
   "cell_type": "markdown",
   "metadata": {},
   "source": [
    "### Überlagerte Variation\n",
    "Die Paramter können auch gemeinsam variiert werden. "
   ]
  },
  {
   "cell_type": "code",
   "execution_count": null,
   "metadata": {},
   "outputs": [],
   "source": [
    "#Image_Augmentation_Parameters\n",
    "Shift_Range      = 10\n",
    "Brightness_Range = 0.5\n",
    "Rotation_Angle   = 10\n",
    "ZoomRange        = 0.8\n",
    "\n",
    "datagen = ImageDataGenerator(width_shift_range  = [-Shift_Range,Shift_Range], \n",
    "                             height_shift_range = [-Shift_Range,Shift_Range],\n",
    "                             brightness_range   = [1-Brightness_Range,1+Brightness_Range],\n",
    "                             zoom_range         = [1-ZoomRange, 1+ZoomRange],\n",
    "                             rotation_range     = Rotation_Angle)\n",
    "iterator = datagen.flow(samples, batch_size=1)\n",
    "\n",
    "fig, axs = pyplot.subplots(5, 5, sharex='col', sharey='row', gridspec_kw={'hspace': 0, 'wspace': 0})\n",
    "for x in range(5):\n",
    "    for y in range (5):\n",
    "        batch = iterator.next()\n",
    "        image = batch[0].astype('uint8')\n",
    "        axs[x, y].imshow(image) "
   ]
  }
 ],
 "metadata": {
  "kernelspec": {
   "display_name": "Python 3 (ipykernel)",
   "language": "python",
   "name": "python3"
  },
  "language_info": {
   "codemirror_mode": {
    "name": "ipython",
    "version": 3
   },
   "file_extension": ".py",
   "mimetype": "text/x-python",
   "name": "python",
   "nbconvert_exporter": "python",
   "pygments_lexer": "ipython3",
   "version": "3.8.11"
  }
 },
 "nbformat": 4,
 "nbformat_minor": 2
}

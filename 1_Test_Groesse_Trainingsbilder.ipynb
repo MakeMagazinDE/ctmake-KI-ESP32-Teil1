{
 "cells": [
  {
   "cell_type": "markdown",
   "metadata": {},
   "source": [
    "# Test Größe Trainingsbilder\n",
    "\n",
    "In diesem Notebook wird ein Testbild geladen und in verschiedenen Größen wieder ausgegeben. Daraus kann die korrekte Größe für die späteren Bilddateien ausgewählt werden."
   ]
  },
  {
   "cell_type": "markdown",
   "metadata": {},
   "source": [
    "1) Laden der Bildbearbeitungsbibliothek Pillow)"
   ]
  },
  {
   "cell_type": "code",
   "execution_count": null,
   "metadata": {},
   "outputs": [],
   "source": [
    "from PIL import Image \n"
   ]
  },
  {
   "cell_type": "markdown",
   "metadata": {},
   "source": [
    "2) Laden und Darstellen des Testbildes"
   ]
  },
  {
   "cell_type": "code",
   "execution_count": null,
   "metadata": {},
   "outputs": [],
   "source": [
    "Input_image='Size_Example_1.jpg'\n",
    "#Input_image='Size_Example_2.jpg'\n",
    "\n",
    "Image_input = Image.open(Input_image)\n",
    "display(Image_input)"
   ]
  },
  {
   "cell_type": "markdown",
   "metadata": {},
   "source": [
    "3) Reskalierung in verschiedenen Detailstufen und Ausgabe"
   ]
  },
  {
   "cell_type": "code",
   "execution_count": null,
   "metadata": {},
   "outputs": [],
   "source": [
    "size_x = 40\n",
    "size_y = 64\n",
    "    \n",
    "for i in range(4):\n",
    "    test_image = Image_input.resize((size_x, size_y), Image.NEAREST)\n",
    "    print(\"Bildgröße: \" + str(size_x) + \" x \" + str(size_y) + \" Pixel\")\n",
    "    display(test_image)\n",
    "    size_x = int(size_x / 2)\n",
    "    size_y = int(size_y / 2)"
   ]
  }
 ],
 "metadata": {
  "kernelspec": {
   "display_name": "Python 3 (ipykernel)",
   "language": "python",
   "name": "python3"
  },
  "language_info": {
   "codemirror_mode": {
    "name": "ipython",
    "version": 3
   },
   "file_extension": ".py",
   "mimetype": "text/x-python",
   "name": "python",
   "nbconvert_exporter": "python",
   "pygments_lexer": "ipython3",
   "version": "3.8.11"
  }
 },
 "nbformat": 4,
 "nbformat_minor": 2
}
